{
 "cells": [
  {
   "cell_type": "code",
   "execution_count": 1,
   "id": "1fd8bbff-c9ad-49cc-a9a4-c41750d1075f",
   "metadata": {},
   "outputs": [],
   "source": [
    "from pathlib import Path\n",
    "import os\n",
    "import pandas as pd\n",
    "from datetime import datetime"
   ]
  },
  {
   "cell_type": "code",
   "execution_count": null,
   "id": "f6c8ba9b-31fd-49b4-bca8-0c4e4ac48047",
   "metadata": {},
   "outputs": [],
   "source": [
    "\n",
    "# Ruta y fecha\n",
    "ruta = Path.cwd()\n",
    "fecha = datetime.now().strftime(\"%Y%m%d\")\n",
    "\n",
    "# Listar archivos\n",
    "archivos = os.listdir(ruta / fecha)\n",
    "archvos"
   ]
  },
  {
   "cell_type": "code",
   "execution_count": null,
   "id": "f12c3f07-3fa2-4469-9638-06cb3c7d62e0",
   "metadata": {},
   "outputs": [],
   "source": [
    "\n",
    "# Leer archivos\n",
    "df_totales = pd.read_csv(f'{ruta}/{fecha}/{archivos[0]}', sep=';', encoding='utf-8')\n",
    "df_ingresos = pd.read_csv(f'{ruta}/{fecha}/{archivos[2]}', sep=',', encoding='utf-8')\n",
    "df_eliminaciones = pd.read_csv(f'{ruta}/{fecha}/{archivos[1]}', sep=',', encoding='utf-8')"
   ]
  },
  {
   "cell_type": "code",
   "execution_count": null,
   "id": "b20f7bc2-2825-43ea-a1c9-ee327c8335d2",
   "metadata": {},
   "outputs": [],
   "source": [
    "# Estandarización de columnas\n",
    "df_ingresos['RUTID_SOCIEDAD'] = df_ingresos['RUTID_SOCIEDAD'].astype(str).str.zfill(10)\n",
    "df_ingresos['RUTID_SOCIO'] = df_ingresos['RUTID_SOCIO'].astype(str).str.zfill(10)\n",
    "\n",
    "df_eliminaciones['RUTID_SOCIEDAD'] = df_eliminaciones['RUTID_SOCIEDAD'].astype(str).str.zfill(10)\n",
    "df_eliminaciones['RUTID_SOCIO'] = df_eliminaciones['RUTID_SOCIO'].astype(str).str.zfill(10)\n",
    "\n",
    "df_totales['rut_sociedad'] = df_totales['rut_sociedad'].astype(str).str.zfill(10)\n",
    "df_totales['rut_socio'] = df_totales['rut_socio'].astype(str).str.zfill(10)"
   ]
  },
  {
   "cell_type": "code",
   "execution_count": null,
   "id": "50e76916-fbee-47ec-b2ca-986cc573dc29",
   "metadata": {},
   "outputs": [],
   "source": [
    "# Crear columnas concat\n",
    "df_totales['concat'] = df_totales['rut_sociedad'] + df_totales['rut_socio']\n",
    "df_eliminaciones['concat'] = df_eliminaciones['RUTID_SOCIEDAD'] + df_eliminaciones['RUTID_SOCIO']\n",
    "df_ingresos['concat'] = df_ingresos['RUTID_SOCIEDAD'] + df_ingresos['RUTID_SOCIO']"
   ]
  },
  {
   "cell_type": "code",
   "execution_count": null,
   "id": "fbd74329-ae95-4c7e-b39a-e3f0961606c5",
   "metadata": {},
   "outputs": [],
   "source": [
    "# Agregar ingresos a totales\n",
    "ya_existen = df_ingresos[df_ingresos['concat'].isin(df_totales['concat'])]\n",
    "total_sin_ingresar = df_ingresos[~df_ingresos['concat'].isin(df_totales['concat'])]\n",
    "df_totales = pd.concat([df_totales, total_sin_ingresar], ignore_index=True)"
   ]
  },
  {
   "cell_type": "code",
   "execution_count": null,
   "id": "df3479ae-7cf7-43a6-9ee5-f14c457de79e",
   "metadata": {},
   "outputs": [],
   "source": [
    "# Eliminar registros en eliminaciones de totales\n",
    "df_totales = df_totales[~df_totales['concat'].isin(df_eliminaciones['concat'])]"
   ]
  },
  {
   "cell_type": "code",
   "execution_count": null,
   "id": "ce5e0c36-b9f2-4f6a-909c-646dba30caa1",
   "metadata": {},
   "outputs": [],
   "source": [
    "# Validaciones finales\n",
    "assert len(df_totales[df_totales['rut_sociedad'] == df_totales['rut_socio']]) == 0, \"Error: Hay RUTs iguales en las columnas.\"\n"
   ]
  },
  {
   "cell_type": "code",
   "execution_count": null,
   "id": "f7e18372-8f21-450c-8808-358bb07a87e3",
   "metadata": {},
   "outputs": [],
   "source": [
    "# Exportar resultado final\n",
    "df_totales.drop(columns=['concat'], inplace=True)\n",
    "df_totales.to_csv(f'{ruta}/{fecha}/MALLA_SOC_{fecha}.csv', sep=',', index=False)"
   ]
  },
  {
   "cell_type": "code",
   "execution_count": null,
   "id": "5637a226-e690-40fa-80ff-c6094886352e",
   "metadata": {},
   "outputs": [],
   "source": []
  }
 ],
 "metadata": {
  "kernelspec": {
   "display_name": "Python 3 (ipykernel)",
   "language": "python",
   "name": "python3"
  },
  "language_info": {
   "codemirror_mode": {
    "name": "ipython",
    "version": 3
   },
   "file_extension": ".py",
   "mimetype": "text/x-python",
   "name": "python",
   "nbconvert_exporter": "python",
   "pygments_lexer": "ipython3",
   "version": "3.12.4"
  }
 },
 "nbformat": 4,
 "nbformat_minor": 5
}
